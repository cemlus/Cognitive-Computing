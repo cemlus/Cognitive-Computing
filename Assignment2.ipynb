{
  "nbformat": 4,
  "nbformat_minor": 0,
  "metadata": {
    "colab": {
      "provenance": [],
      "authorship_tag": "ABX9TyNXeEB835qxXsCEKgapSPhl",
      "include_colab_link": true
    },
    "kernelspec": {
      "name": "python3",
      "display_name": "Python 3"
    },
    "language_info": {
      "name": "python"
    }
  },
  "cells": [
    {
      "cell_type": "markdown",
      "metadata": {
        "id": "view-in-github",
        "colab_type": "text"
      },
      "source": [
        "<a href=\"https://colab.research.google.com/github/cemlus/Cognitive-Computing/blob/main/Assignment2.ipynb\" target=\"_parent\"><img src=\"https://colab.research.google.com/assets/colab-badge.svg\" alt=\"Open In Colab\"/></a>"
      ]
    },
    {
      "cell_type": "code",
      "execution_count": 4,
      "metadata": {
        "colab": {
          "base_uri": "https://localhost:8080/"
        },
        "id": "DPbJ1od1qbYu",
        "outputId": "7e82e6b8-2195-4342-ee2f-c50e38907183"
      },
      "outputs": [
        {
          "output_type": "stream",
          "name": "stdout",
          "text": [
            "[20, 40, 50, 60, 70, 80, 200, 300]\n",
            "[300, 200, 80, 70, 60, 50, 40, 20]\n"
          ]
        }
      ],
      "source": [
        "'''\n",
        "1. Create a List L that is defined as= [10, 20, 30, 40, 50, 60, 70, 80].\n",
        "i. WAP to add 200 and 300 to L.\n",
        "ii. WAP to remove 10 and 30 from L.\n",
        "iii. WAP to sort L in ascending order.\n",
        "iv. WAP to sort L in descending order.\n",
        "'''\n",
        "L = [10, 20, 30, 40, 50, 60, 70, 80]\n",
        "L.append(200)\n",
        "L.append(300)\n",
        "L.remove(10)\n",
        "L.remove(30)\n",
        "L.sort()\n",
        "print(L)\n",
        "L.sort(reverse=True)\n",
        "print(L)\n"
      ]
    },
    {
      "cell_type": "code",
      "source": [
        "\n",
        "'''\n",
        "2. Create a tuple of marks scored as scores = (45, 89.5, 76, 45.4, 89, 92, 58, 45) and\n",
        "perform the following operations using tuple functions:\n",
        "i. Identify the highest score and its index in the tuple.\n",
        "ii. Find the lowest score and count how many times it appears.\n",
        "iii. Reverse the tuple and return it as a list.\n",
        "iv. Check if a specific score \"76\" (input by the user) is present in the tuple and\n",
        "print its first occurrence index, or a message saying it’s not present.\n",
        "'''\n",
        "\n",
        "scores = (45, 89.5, 76, 45.4, 89, 92, 58, 45)\n",
        "maxScore = max(scores)\n",
        "maxIndex = scores.index(maxScore)\n",
        "print(maxScore, maxIndex)\n",
        "\n",
        "minScore = min(scores)\n",
        "minIndex = scores.index(minScore)\n",
        "print(minScore, minIndex)\n",
        "\n",
        "scoresList = list(scores)\n",
        "scoresList.reverse()\n",
        "print(scoresList)\n",
        "\n",
        "score = int(input(\"Enter a score: \"))\n",
        "if score in scores:\n",
        "    print(scores.index(score))\n",
        "else:\n",
        "    print(\"Score not found\")\n",
        "\n"
      ],
      "metadata": {
        "colab": {
          "base_uri": "https://localhost:8080/"
        },
        "id": "mFeaV-0tqhv9",
        "outputId": "cc1608fb-8af2-42c1-9ea6-9237e4560242"
      },
      "execution_count": 3,
      "outputs": [
        {
          "output_type": "stream",
          "name": "stdout",
          "text": [
            "92 5\n",
            "45 0\n",
            "[45, 58, 92, 89, 45.4, 76, 89.5, 45]\n",
            "Enter a score: 20\n",
            "Score not found\n"
          ]
        }
      ]
    },
    {
      "cell_type": "code",
      "source": [
        "'''\n",
        "3. WAP to create a list of 100 random numbers between 100 and 900. Count and print\n",
        "the:\n",
        "i. All odd numbers\n",
        "ii. All even numbers\n",
        "iii. All prime numbers\n",
        "'''\n",
        "import random\n",
        "randomNumbers = [random.randint(100,900) for i in range(100)]\n",
        "print(randomNumbers)\n",
        "\n",
        "def isPrime(num):\n",
        "    if num <= 1:\n",
        "        return False\n",
        "    for i in range(2, num):\n",
        "        if num % i == 0:\n",
        "            return False\n",
        "    return True\n",
        "\n",
        "oddNumbers = [i for i in randomNumbers if i % 2 != 0]\n",
        "print(oddNumbers)\n",
        "\n",
        "evenNumbers = [i for i in randomNumbers if i % 2 == 0]\n",
        "print(evenNumbers)\n",
        "\n",
        "primeNumbers = [i for i in randomNumbers if isPrime(i)]\n",
        "print(primeNumbers)\n",
        "\n"
      ],
      "metadata": {
        "colab": {
          "base_uri": "https://localhost:8080/"
        },
        "id": "MXGdyxjfqlYG",
        "outputId": "66d7d242-c433-4f72-88d4-bb1bb08ee994"
      },
      "execution_count": 2,
      "outputs": [
        {
          "output_type": "stream",
          "name": "stdout",
          "text": [
            "[567, 130, 570, 882, 863, 865, 111, 428, 312, 712, 449, 486, 313, 165, 444, 294, 279, 890, 717, 607, 791, 830, 674, 182, 674, 151, 681, 529, 210, 899, 645, 179, 266, 466, 299, 685, 402, 666, 876, 564, 823, 227, 144, 647, 205, 802, 369, 712, 167, 298, 475, 784, 685, 168, 574, 770, 678, 763, 253, 718, 607, 705, 765, 822, 503, 288, 141, 656, 683, 306, 406, 872, 383, 853, 436, 252, 454, 382, 202, 268, 533, 807, 191, 703, 365, 487, 354, 654, 475, 545, 613, 146, 134, 148, 588, 823, 315, 146, 589, 331]\n",
            "[567, 863, 865, 111, 449, 313, 165, 279, 717, 607, 791, 151, 681, 529, 899, 645, 179, 299, 685, 823, 227, 647, 205, 369, 167, 475, 685, 763, 253, 607, 705, 765, 503, 141, 683, 383, 853, 533, 807, 191, 703, 365, 487, 475, 545, 613, 823, 315, 589, 331]\n",
            "[130, 570, 882, 428, 312, 712, 486, 444, 294, 890, 830, 674, 182, 674, 210, 266, 466, 402, 666, 876, 564, 144, 802, 712, 298, 784, 168, 574, 770, 678, 718, 822, 288, 656, 306, 406, 872, 436, 252, 454, 382, 202, 268, 354, 654, 146, 134, 148, 588, 146]\n",
            "[863, 449, 313, 607, 151, 179, 823, 227, 647, 167, 607, 503, 683, 383, 853, 191, 487, 613, 823, 331]\n"
          ]
        }
      ]
    },
    {
      "cell_type": "code",
      "source": [
        "'''\n",
        "4. Consider the following two sets, A and B, represenƟng scores of two teams in mulƟple\n",
        "matches. A = {34, 56, 78, 90} and B = {78, 45, 90, 23}\n",
        "WAP to perform the following operaƟons using set funcƟons:\n",
        "i. Find the unique scores achieved by both teams (union of sets).\n",
        "ii. IdenƟfy the scores that are common to both teams (intersecƟon of sets).\n",
        "iii. Find the scores that are exclusive to each team (symmetric difference).\n",
        "iv. Check if the scores of team A are a subset of team B, and if team B's scores are\n",
        "a superset of team A.\n",
        "v. Remove a specific score X (input by the user) from set A if it exists. If not, print\n",
        "a message saying it is not present.\n",
        "'''\n",
        "A = {34, 56, 78, 90}\n",
        "B = {78, 45, 90, 23}\n",
        "print(A.union(B))\n",
        "print(A.intersection(B))\n",
        "print(A.symmetric_difference(B))\n",
        "print(A.issubset(B))\n",
        "print(B.issuperset(A))\n",
        "score = int(input(\"Enter a score: \"))\n",
        "if score in A:\n",
        "    A.remove(score)\n",
        "else:\n",
        "    print(\"Score not found\")\n",
        "print(A)\n"
      ],
      "metadata": {
        "colab": {
          "base_uri": "https://localhost:8080/"
        },
        "id": "bh0PDXEgqqZq",
        "outputId": "c376579f-0347-4878-d04c-98ceebf54804"
      },
      "execution_count": 1,
      "outputs": [
        {
          "output_type": "stream",
          "name": "stdout",
          "text": [
            "{34, 45, 78, 23, 56, 90}\n",
            "{90, 78}\n",
            "{34, 45, 23, 56}\n",
            "False\n",
            "False\n",
            "Enter a score: 20\n",
            "Score not found\n",
            "{56, 34, 90, 78}\n"
          ]
        }
      ]
    }
  ]
}