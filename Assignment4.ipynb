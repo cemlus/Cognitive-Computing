{
  "nbformat": 4,
  "nbformat_minor": 0,
  "metadata": {
    "colab": {
      "provenance": [],
      "authorship_tag": "ABX9TyPOj4ENSgJxWLsA91VFHjV5",
      "include_colab_link": true
    },
    "kernelspec": {
      "name": "python3",
      "display_name": "Python 3"
    },
    "language_info": {
      "name": "python"
    }
  },
  "cells": [
    {
      "cell_type": "markdown",
      "metadata": {
        "id": "view-in-github",
        "colab_type": "text"
      },
      "source": [
        "<a href=\"https://colab.research.google.com/github/cemlus/Cognitive-Computing/blob/main/Assignment4.ipynb\" target=\"_parent\"><img src=\"https://colab.research.google.com/assets/colab-badge.svg\" alt=\"Open In Colab\"/></a>"
      ]
    },
    {
      "cell_type": "code",
      "execution_count": 3,
      "metadata": {
        "colab": {
          "base_uri": "https://localhost:8080/"
        },
        "id": "Lpd8bCzA_yrC",
        "outputId": "27b64962-6dd5-4d0b-c4e8-21e30da45301"
      },
      "outputs": [
        {
          "output_type": "stream",
          "name": "stdout",
          "text": [
            "Original Array: [1 2 3 4 5]\n",
            "After adding 2: [3 4 5 6 7]\n",
            "After multiplying by 3: [ 3  6  9 12 15]\n",
            "After dividing by 2: [0.5 1.  1.5 2.  2.5]\n"
          ]
        }
      ],
      "source": [
        "import numpy as np\n",
        "\n",
        "# Q1:\n",
        "arr = np.array([1, 2, 3, 4, 5])\n",
        "print(\"Original Array:\", arr)\n",
        "\n",
        "# a)\n",
        "add = arr + 2\n",
        "print(\"After adding 2:\", add)\n",
        "\n",
        "# b)\n",
        "mul = arr * 3\n",
        "print(\"After multiplying by 3:\", mul)\n",
        "\n",
        "# c)\n",
        "div = arr / 2\n",
        "print(\"After dividing by 2:\", div)"
      ]
    },
    {
      "cell_type": "code",
      "source": [
        "# Q2:\n",
        "# a)\n",
        "arr2 = np.array([1, 2, 3, 6, 4, 5])\n",
        "arr_rev = arr2[::-1]\n",
        "print(\"Reversed Array:\", arr_rev)\n",
        "\n",
        "# b)\n",
        "def most_frequent(arr):\n",
        "    vals, counts = np.unique(arr, return_counts=True)\n",
        "    max_count = np.max(counts)\n",
        "    most_frequent_value = vals[np.argmax(counts)]\n",
        "    indices = np.where(arr == most_frequent_value)[0]\n",
        "    return most_frequent_value, indices\n",
        "\n",
        "x = np.array([1, 2, 3, 4, 5, 1, 2, 1, 1, 1])\n",
        "y = np.array([1, 1, 1, 2, 3, 4, 2, 4, 3, 3])\n",
        "\n",
        "x_value, x_indices = most_frequent(x)\n",
        "y_value, y_indices = most_frequent(y)\n",
        "\n",
        "print(f\"Most frequent value in x: {x_value}, Indices: {x_indices}\")\n",
        "print(f\"Most frequent value in y: {y_value}, Indices: {y_indices}\")"
      ],
      "metadata": {
        "id": "eWKSQ-wN_7Ip"
      },
      "execution_count": null,
      "outputs": []
    },
    {
      "cell_type": "code",
      "source": [
        "# Q3:\n",
        "a_arr = np.array([[10, 20, 30], [40, 50, 60], [70, 80, 90]])\n",
        "print(\"Element at (1st row, 2nd column):\", a_arr[0, 1])\n",
        "print(\"Element at (3rd row, 1st column):\", a_arr[2, 0])"
      ],
      "metadata": {
        "colab": {
          "base_uri": "https://localhost:8080/"
        },
        "id": "AdjIoplxAINL",
        "outputId": "0170b027-e78b-450a-db61-7f9c0c6d05b6"
      },
      "execution_count": 2,
      "outputs": [
        {
          "output_type": "stream",
          "name": "stdout",
          "text": [
            "Element at (1st row, 2nd column): 20\n",
            "Element at (3rd row, 1st column): 70\n"
          ]
        }
      ]
    },
    {
      "cell_type": "code",
      "source": [
        "# Q4:\n",
        "sid = np.linspace(10, 100, 25)\n",
        "print(\"Array:\", sid)\n",
        "print(\"Dimensions:\", sid.ndim)\n",
        "print(\"Shape:\", sid.shape)\n",
        "print(\"Total elements:\", sid.size)\n",
        "print(\"Data type:\", sid.dtype)\n",
        "print(\"Total bytes consumed:\", sid.nbytes)\n",
        "\n",
        "# Transpose\n",
        "transposed_array = sid.reshape(25, 1)\n",
        "print(\"Transposed Array using reshape():\\n\", transposed_array)\n",
        "\n",
        "# Using T attribute\n",
        "print(\"Transpose using T attribute:\", sid.T)"
      ],
      "metadata": {
        "colab": {
          "base_uri": "https://localhost:8080/"
        },
        "id": "TW1lvRYuAK0_",
        "outputId": "3b1ac4d7-a722-4768-f321-3c26b3d64aaa"
      },
      "execution_count": 4,
      "outputs": [
        {
          "output_type": "stream",
          "name": "stdout",
          "text": [
            "Array: [ 10.    13.75  17.5   21.25  25.    28.75  32.5   36.25  40.    43.75\n",
            "  47.5   51.25  55.    58.75  62.5   66.25  70.    73.75  77.5   81.25\n",
            "  85.    88.75  92.5   96.25 100.  ]\n",
            "Dimensions: 1\n",
            "Shape: (25,)\n",
            "Total elements: 25\n",
            "Data type: float64\n",
            "Total bytes consumed: 200\n",
            "Transposed Array using reshape():\n",
            " [[ 10.  ]\n",
            " [ 13.75]\n",
            " [ 17.5 ]\n",
            " [ 21.25]\n",
            " [ 25.  ]\n",
            " [ 28.75]\n",
            " [ 32.5 ]\n",
            " [ 36.25]\n",
            " [ 40.  ]\n",
            " [ 43.75]\n",
            " [ 47.5 ]\n",
            " [ 51.25]\n",
            " [ 55.  ]\n",
            " [ 58.75]\n",
            " [ 62.5 ]\n",
            " [ 66.25]\n",
            " [ 70.  ]\n",
            " [ 73.75]\n",
            " [ 77.5 ]\n",
            " [ 81.25]\n",
            " [ 85.  ]\n",
            " [ 88.75]\n",
            " [ 92.5 ]\n",
            " [ 96.25]\n",
            " [100.  ]]\n",
            "Transpose using T attribute: [ 10.    13.75  17.5   21.25  25.    28.75  32.5   36.25  40.    43.75\n",
            "  47.5   51.25  55.    58.75  62.5   66.25  70.    73.75  77.5   81.25\n",
            "  85.    88.75  92.5   96.25 100.  ]\n"
          ]
        }
      ]
    },
    {
      "cell_type": "code",
      "source": [
        "# Q5:\n",
        "ucs420_sid = np.array([[10, 20, 30, 40], [50, 60, 70, 80], [90, 15, 20, 35]])\n",
        "print(\"Mean:\", np.mean(ucs420_sid))\n",
        "print(\"Median:\", np.median(ucs420_sid))\n",
        "print(\"Max:\", np.max(ucs420_sid))\n",
        "print(\"Min:\", np.min(ucs420_sid))\n",
        "print(\"Unique Elements:\", np.unique(ucs420_sid))\n",
        "\n",
        "# Reshape to 4x3\n",
        "reshaped_ucs420_sid = ucs420_sid.reshape(4, 3)\n",
        "print(\"Reshaped Array (4x3):\\n\", reshaped_ucs420_sid)\n",
        "\n",
        "# Resize to 2x3\n",
        "resized_ucs420_sid = np.resize(ucs420_sid, (2, 3))\n",
        "print(\"Resized Array (2x3):\\n\", resized_ucs420_sid)"
      ],
      "metadata": {
        "colab": {
          "base_uri": "https://localhost:8080/"
        },
        "id": "zFfBbVBuAPl_",
        "outputId": "34eabe15-6961-4c08-9e5d-1f78ad2dae9c"
      },
      "execution_count": 5,
      "outputs": [
        {
          "output_type": "stream",
          "name": "stdout",
          "text": [
            "Mean: 43.333333333333336\n",
            "Median: 37.5\n",
            "Max: 90\n",
            "Min: 10\n",
            "Unique Elements: [10 15 20 30 35 40 50 60 70 80 90]\n",
            "Reshaped Array (4x3):\n",
            " [[10 20 30]\n",
            " [40 50 60]\n",
            " [70 80 90]\n",
            " [15 20 35]]\n",
            "Resized Array (2x3):\n",
            " [[10 20 30]\n",
            " [40 50 60]]\n"
          ]
        }
      ]
    }
  ]
}