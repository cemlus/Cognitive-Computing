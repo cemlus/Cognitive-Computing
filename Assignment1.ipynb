{
  "nbformat": 4,
  "nbformat_minor": 0,
  "metadata": {
    "colab": {
      "provenance": [],
      "authorship_tag": "ABX9TyMN8PoNvCUKNAG+E19PsA+2",
      "include_colab_link": true
    },
    "kernelspec": {
      "name": "python3",
      "display_name": "Python 3"
    },
    "language_info": {
      "name": "python"
    }
  },
  "cells": [
    {
      "cell_type": "markdown",
      "metadata": {
        "id": "view-in-github",
        "colab_type": "text"
      },
      "source": [
        "<a href=\"https://colab.research.google.com/github/cemlus/Cognitive-Computing/blob/main/Assignment1.ipynb\" target=\"_parent\"><img src=\"https://colab.research.google.com/assets/colab-badge.svg\" alt=\"Open In Colab\"/></a>"
      ]
    },
    {
      "cell_type": "code",
      "execution_count": null,
      "metadata": {
        "id": "McuAysEKnrzc"
      },
      "outputs": [],
      "source": [
        "# Assingment 1.1: WAP to print your name three times\n",
        "for i in range(0,3,1):\n",
        "    print(\"siddhant\")\n"
      ]
    },
    {
      "cell_type": "code",
      "source": [
        "\n",
        "'''\n",
        "Assingment 2.1: WAP to add three numbers and print the result.\n",
        "Assingment 2.2: WAP to concatinate three strings and print the result.\n",
        "'''\n",
        "def addNumbers(a, b, c):\n",
        "    a = int(a)\n",
        "    b = int(b)\n",
        "    c = int(c)\n",
        "    return (a + b + c)\n",
        "\n",
        "print(addNumbers(1,-2,3))\n",
        "\n",
        "def concatString(str1, str2, str3):\n",
        "    s1 = str(str1)\n",
        "    s2 = str(str2)\n",
        "    s3 = str(str3)\n",
        "    return str(s1+s2+s3)\n",
        "\n",
        "print(concatString(\"hello\", \" hoo haa \", \"!!!!\"))\n"
      ],
      "metadata": {
        "id": "Z8M5O5dAoBD3"
      },
      "execution_count": null,
      "outputs": []
    },
    {
      "cell_type": "code",
      "source": [
        "\n",
        "'''\n",
        "Assingment 4.1: WAP to print the table of 7, 9.\n",
        "Assingment 4.2: WAP to print the table of n and n is given by user.\n",
        "Assingment 4.3: WAP to add all the numbers from 1 to n and n is given by user.\n",
        "'''\n",
        "for i in range(1,11,1):\n",
        "    print(7*i)\n",
        "    print(\"\\b\")\n",
        "for i in range(1,11,1):\n",
        "    print(9*i)\n",
        "    print(\"\\b\")\n",
        "\n",
        "num = int(input(\"enter a number: \"))\n",
        "sum = 0\n",
        "for i in range(1,11,1):\n",
        "    print(num*i)\n",
        "    print(\"\\b\")\n",
        "\n",
        "for j in range(1,num,1):\n",
        "    sum+=j\n",
        "print(\"the final sum is: \",sum)"
      ],
      "metadata": {
        "colab": {
          "base_uri": "https://localhost:8080/"
        },
        "collapsed": true,
        "id": "GrWv8J_voEl8",
        "outputId": "361321c8-847f-4f41-d40a-6c001b21c474"
      },
      "execution_count": 1,
      "outputs": [
        {
          "output_type": "stream",
          "name": "stdout",
          "text": [
            "7\n",
            "\b\n",
            "14\n",
            "\b\n",
            "21\n",
            "\b\n",
            "28\n",
            "\b\n",
            "35\n",
            "\b\n",
            "42\n",
            "\b\n",
            "49\n",
            "\b\n",
            "56\n",
            "\b\n",
            "63\n",
            "\b\n",
            "70\n",
            "\b\n",
            "9\n",
            "\b\n",
            "18\n",
            "\b\n",
            "27\n",
            "\b\n",
            "36\n",
            "\b\n",
            "45\n",
            "\b\n",
            "54\n",
            "\b\n",
            "63\n",
            "\b\n",
            "72\n",
            "\b\n",
            "81\n",
            "\b\n",
            "90\n",
            "\b\n",
            "enter a number: 4\n",
            "4\n",
            "\b\n",
            "8\n",
            "\b\n",
            "12\n",
            "\b\n",
            "16\n",
            "\b\n",
            "20\n",
            "\b\n",
            "24\n",
            "\b\n",
            "28\n",
            "\b\n",
            "32\n",
            "\b\n",
            "36\n",
            "\b\n",
            "40\n",
            "\b\n",
            "the final sum is:  6\n"
          ]
        }
      ]
    },
    {
      "cell_type": "code",
      "source": [
        "\n",
        "'''\n",
        "Assingment 5.1: WAP to find max amoung three numbers and input from user. [Try max() function]\n",
        "Assingment 5.2: WAP to add all numbers divisible by 7 and 9 from 1 to n and n is given by the user.\n",
        "Assingment 5.3: WAP to add all prime numbers from 1 to n and n is given by the user.\n",
        "'''\n",
        "\n",
        "def maxNumber(a,b,c):\n",
        "    a = int(a)\n",
        "    b = int(b)\n",
        "    c = int(c)\n",
        "    return max(a,b,c)\n",
        "print(maxNumber(1,2,3))\n",
        "\n",
        "sum2 = 0\n",
        "for i in range(1,num,1):\n",
        "    if(i % 7 and i % 9):\n",
        "        sum2+=i\n",
        "    else:\n",
        "        continue\n",
        "\n",
        "def isPrime(num):\n",
        "    if num <= 1:\n",
        "        return False\n",
        "    for i in range(2, num):\n",
        "        if num % i == 0:\n",
        "            return False\n",
        "    return True\n",
        "\n",
        "print(isPrime(31))\n",
        "\n",
        "def printPrimes(num):\n",
        "    for i in range(2,num):\n",
        "        if(isPrime(i)):\n",
        "            print(i)\n",
        "\n",
        "printPrimes(10)\n"
      ],
      "metadata": {
        "id": "vOKWeiemoHor"
      },
      "execution_count": null,
      "outputs": []
    },
    {
      "cell_type": "code",
      "source": [
        "def isPrime(num):\n",
        "    if num <= 1:\n",
        "        return False\n",
        "    for i in range(2, num):\n",
        "        if num % i == 0:\n",
        "            return False\n",
        "    return True\n",
        "\n",
        "def addOddNumbers(a):\n",
        "    sumOfOdd = 0\n",
        "    for i in range(1, a + 1):\n",
        "        if i % 2 != 0:\n",
        "            sumOfOdd += i\n",
        "    print(\"Sum of the odd numbers up to\", a, \"is:\", sumOfOdd)\n",
        "\n",
        "def addPrimeNumbers(a):\n",
        "    sumOfPrimes = 0\n",
        "    for i in range(2, a + 1):\n",
        "        if isPrime(i):\n",
        "            sumOfPrimes += i\n",
        "    print(\"Sum of the prime numbers up to\", a, \"is:\", sumOfPrimes)\n",
        "\n",
        "n = int(input(\"Enter a number (n): \"))\n",
        "addOddNumbers(n)\n",
        "addPrimeNumbers(n)"
      ],
      "metadata": {
        "colab": {
          "base_uri": "https://localhost:8080/"
        },
        "id": "4KXm6yxCoKJj",
        "outputId": "6efccafa-e8fb-45d6-8a9b-133ebe3dd92a"
      },
      "execution_count": 8,
      "outputs": [
        {
          "output_type": "stream",
          "name": "stdout",
          "text": [
            "sum of the prime numbers upto  20  is -> 77\n"
          ]
        }
      ]
    }
  ]
}