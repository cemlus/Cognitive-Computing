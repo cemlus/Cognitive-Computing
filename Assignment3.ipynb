{
  "nbformat": 4,
  "nbformat_minor": 0,
  "metadata": {
    "colab": {
      "provenance": [],
      "authorship_tag": "ABX9TyPLFtOgPvvi6DWmw8JGEExm",
      "include_colab_link": true
    },
    "kernelspec": {
      "name": "python3",
      "display_name": "Python 3"
    },
    "language_info": {
      "name": "python"
    }
  },
  "cells": [
    {
      "cell_type": "markdown",
      "metadata": {
        "id": "view-in-github",
        "colab_type": "text"
      },
      "source": [
        "<a href=\"https://colab.research.google.com/github/cemlus/Cognitive-Computing/blob/main/Assignment3.ipynb\" target=\"_parent\"><img src=\"https://colab.research.google.com/assets/colab-badge.svg\" alt=\"Open In Colab\"/></a>"
      ]
    },
    {
      "cell_type": "code",
      "execution_count": 1,
      "metadata": {
        "colab": {
          "base_uri": "https://localhost:8080/"
        },
        "id": "sAfLmodE_aMj",
        "outputId": "38637fac-b4ce-434b-dc60-c7875a69fac2"
      },
      "outputs": [
        {
          "output_type": "stream",
          "name": "stdout",
          "text": [
            "   Tid Refund Marital Status Taxable Income Cheat\n",
            "0    1    Yes         Single           125K    No\n",
            "1    2     No        Married           100K    No\n",
            "2    3     No         Single            70K    No\n",
            "3    4    Yes        Married           120K    No\n",
            "4    5     No       Divorced            95K   Yes\n",
            "5    6     No        Married            60K    No\n",
            "6    7    Yes       Divorced           220K    No\n",
            "7    8     No         Single            85K   Yes\n",
            "8    9     No        Married            75K    No\n",
            "9   10     No         Single            90K   Yes\n"
          ]
        }
      ],
      "source": [
        "#Q1\n",
        "import pandas as pd\n",
        "data = {\n",
        "    'Tid': [1,2,3,4,5,6,7,8,9,10],\n",
        "    'Refund': ['Yes','No','No','Yes','No','No','Yes','No','No','No',],\n",
        "    'Marital Status': ['Single','Married','Single','Married','Divorced','Married','Divorced','Single','Married','Single'],\n",
        "    'Taxable Income': ['125K','100K','70K','120K','95K','60K','220K','85K','75K','90K'],\n",
        "    'Cheat': ['No','No','No','No','Yes','No','No','Yes','No','Yes',]\n",
        "}\n",
        "df = pd.DataFrame(data)\n",
        "print(df)"
      ]
    },
    {
      "cell_type": "code",
      "source": [
        "#Q2\n",
        "rows = df.loc[[0,4,7,8]]\n",
        "print(rows)"
      ],
      "metadata": {
        "colab": {
          "base_uri": "https://localhost:8080/"
        },
        "id": "Jc6kMKMNBf8S",
        "outputId": "2a32832d-6c78-4a89-db20-a0d6f7bb265e"
      },
      "execution_count": 2,
      "outputs": [
        {
          "output_type": "stream",
          "name": "stdout",
          "text": [
            "   Tid Refund Marital Status Taxable Income Cheat\n",
            "0    1    Yes         Single           125K    No\n",
            "4    5     No       Divorced            95K   Yes\n",
            "7    8     No         Single            85K   Yes\n",
            "8    9     No        Married            75K    No\n"
          ]
        }
      ]
    },
    {
      "cell_type": "code",
      "source": [
        "#Q3\n",
        "#(i)\n",
        "rows_3_to_7 = df.loc[3:7]\n",
        "print(\"Rows from index 3 to 7:\")\n",
        "print(rows_3_to_7)\n",
        "#(ii)\n",
        "rows_4_to_8_cols_2_to_4 = df.iloc[4:9, 2:5]\n",
        "print(\"\\nRows from index 4 to 8, columns 2 to 4:\")\n",
        "print(rows_4_to_8_cols_2_to_4)\n",
        "#(iii)\n",
        "rows_all_cols_1_to_3 = df.iloc[:, 1:4]\n",
        "print(\"\\nAll rows with columns index 1 to 3:\")\n",
        "print(rows_all_cols_1_to_3)"
      ],
      "metadata": {
        "colab": {
          "base_uri": "https://localhost:8080/"
        },
        "id": "6bZbjawZBmxN",
        "outputId": "a82d9603-3084-4870-a5c6-5b8f36ad4180"
      },
      "execution_count": 3,
      "outputs": [
        {
          "output_type": "stream",
          "name": "stdout",
          "text": [
            "Rows from index 3 to 7:\n",
            "   Tid Refund Marital Status Taxable Income Cheat\n",
            "3    4    Yes        Married           120K    No\n",
            "4    5     No       Divorced            95K   Yes\n",
            "5    6     No        Married            60K    No\n",
            "6    7    Yes       Divorced           220K    No\n",
            "7    8     No         Single            85K   Yes\n",
            "\n",
            "Rows from index 4 to 8, columns 2 to 4:\n",
            "  Marital Status Taxable Income Cheat\n",
            "4       Divorced            95K   Yes\n",
            "5        Married            60K    No\n",
            "6       Divorced           220K    No\n",
            "7         Single            85K   Yes\n",
            "8        Married            75K    No\n",
            "\n",
            "All rows with columns index 1 to 3:\n",
            "  Refund Marital Status Taxable Income\n",
            "0    Yes         Single           125K\n",
            "1     No        Married           100K\n",
            "2     No         Single            70K\n",
            "3    Yes        Married           120K\n",
            "4     No       Divorced            95K\n",
            "5     No        Married            60K\n",
            "6    Yes       Divorced           220K\n",
            "7     No         Single            85K\n",
            "8     No        Married            75K\n",
            "9     No         Single            90K\n"
          ]
        }
      ]
    },
    {
      "cell_type": "code",
      "source": [
        "#Q4\n",
        "df = pd.read_csv('Iris.csv')\n",
        "print(\"First five rows of the dataset:\")\n",
        "print(df.head())"
      ],
      "metadata": {
        "id": "p2K6aU6FBvIT"
      },
      "execution_count": null,
      "outputs": []
    },
    {
      "cell_type": "code",
      "source": [
        "#Q5\n",
        "df1 = df.drop(index=4)\n",
        "df2= df1.drop(columns=df.columns[3])\n",
        "print(\"Resulting DataFrame after deleting row 4 and column 3:\")\n",
        "print(df2.head())"
      ],
      "metadata": {
        "id": "26j4gYuFBzp8"
      },
      "execution_count": null,
      "outputs": []
    },
    {
      "cell_type": "code",
      "source": [
        "data2 = {\n",
        "    'Employee_ID': [101, 102, 103, 104, 105],\n",
        "    'Name': ['Alice', 'Bob', 'Charlie', 'Diana', 'Edward'],\n",
        "    'Department': ['HR', 'IT', 'IT', 'Marketing', 'Sales'],\n",
        "    'Age': [29, 34, 41, 28, 38],\n",
        "    'Salary': [50000, 70000, 65000, 55000, 60000],\n",
        "    'Years_of_Experience': [4, 8, 10, 3, 12],\n",
        "    'Joining_Date': ['2020-03-15', '2017-07-19', '2013-06-01', '2021-02-10', '2010-11-25'],\n",
        "    'Gender': ['Female', 'Male', 'Male', 'Female', 'Male'],\n",
        "    'Bonus': [5000, 7000, 6000, 4500, 5000],\n",
        "    'Rating': [4.5, 4.0, 3.8, 4.7, 3.5]\n",
        "}\n",
        "df = pd.DataFrame(data2)\n",
        "df.to_csv('Employees.csv', index=False)"
      ],
      "metadata": {
        "id": "IxdUfbv0B0ZF"
      },
      "execution_count": null,
      "outputs": []
    },
    {
      "cell_type": "code",
      "source": [
        "#Q6\n",
        "df = pd.read_csv('Employees.csv')\n",
        "\n",
        "#(a)\n",
        "print(\"Shape of the DataFrame:\", df.shape)\n",
        "\n",
        "#(b)\n",
        "print(\"\\nSummary of the DataFrame:\")\n",
        "print(df.info())\n",
        "\n",
        "#(c)\n",
        "print(\"\\nDescriptive Statistics:\")\n",
        "print(df.describe())\n",
        "\n",
        "#(d)\n",
        "print(\"\\nFirst 5 rows:\")\n",
        "print(df.head())\n",
        "print(\"\\nLast 3 rows:\")\n",
        "print(df.tail(3))\n",
        "\n",
        "#(e)\n",
        "average_salary = df['Salary'].mean()\n",
        "total_bonus = df['Bonus'].sum()\n",
        "youngest_age = df['Age'].min()\n",
        "highest_rating = df['Rating'].max()\n",
        "\n",
        "print(\"\\nStatistics:\")\n",
        "print(f\"Average Salary: {average_salary}\")\n",
        "print(f\"Total Bonus Paid: {total_bonus}\")\n",
        "print(f\"Youngest Employee Age: {youngest_age}\")\n",
        "print(f\"Highest Performance Rating: {highest_rating}\")\n",
        "\n",
        "#(f)\n",
        "df_sorted = df.sort_values(by='Salary', ascending=False)\n",
        "print(\"\\nDataFrame sorted by Salary (descending):\")\n",
        "print(df_sorted)\n",
        "\n",
        "#(g)\n",
        "def categorize_performance(rating):\n",
        "    if rating >= 4.5:\n",
        "        return 'Excellent'\n",
        "    elif rating >= 4.0:\n",
        "        return 'Good'\n",
        "    else:\n",
        "        return 'Average'\n",
        "\n",
        "df['Performance_Category'] = df['Rating'].apply(categorize_performance)\n",
        "print(\"\\nDataFrame with Performance Category:\")\n",
        "print(df)\n",
        "\n",
        "#(h)\n",
        "print(\"\\nMissing values in the DataFrame:\")\n",
        "print(df.isnull().sum())\n",
        "\n",
        "#(i)\n",
        "df.rename(columns={'Employee_ID': 'ID'}, inplace=True)\n",
        "print(\"\\nDataFrame after renaming Employee_ID to ID:\")\n",
        "print(df)\n",
        "\n",
        "#(j)\n",
        "experienced_employees = df[df['Years_of_Experience'] > 5]\n",
        "it_employees = df[df['Department'] == 'IT']\n",
        "\n",
        "print(\"\\nEmployees with more than 5 years of experience:\")\n",
        "print(experienced_employees)\n",
        "\n",
        "print(\"\\nEmployees in the IT department:\")\n",
        "print(it_employees)\n",
        "\n",
        "#(k)\n",
        "df['Tax'] = df['Salary'] * 0.1\n",
        "print(\"\\nDataFrame with Tax column:\")\n",
        "print(df)\n",
        "\n",
        "#(l)\n",
        "df.to_csv('Modified_Employees.csv', index=False)\n",
        "print(\"\\nModified DataFrame saved to 'Modified_Employees.csv'.\")"
      ],
      "metadata": {
        "id": "phtmBYFrCAYM"
      },
      "execution_count": null,
      "outputs": []
    }
  ]
}